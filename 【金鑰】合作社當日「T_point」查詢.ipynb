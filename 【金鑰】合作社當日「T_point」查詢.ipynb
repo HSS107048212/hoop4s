{
  "nbformat": 4,
  "nbformat_minor": 0,
  "metadata": {
    "colab": {
      "provenance": [],
      "include_colab_link": true
    },
    "kernelspec": {
      "name": "python3",
      "display_name": "Python 3"
    },
    "language_info": {
      "name": "python"
    }
  },
  "cells": [
    {
      "cell_type": "markdown",
      "metadata": {
        "id": "view-in-github",
        "colab_type": "text"
      },
      "source": [
        "<a href=\"https://colab.research.google.com/github/HSS107048212/hoop4s/blob/main/%E3%80%90%E9%87%91%E9%91%B0%E3%80%91%E5%90%88%E4%BD%9C%E7%A4%BE%E7%95%B6%E6%97%A5%E3%80%8CT_point%E3%80%8D%E6%9F%A5%E8%A9%A2.ipynb\" target=\"_parent\"><img src=\"https://colab.research.google.com/assets/colab-badge.svg\" alt=\"Open In Colab\"/></a>"
      ]
    },
    {
      "cell_type": "markdown",
      "source": [
        "# (使用隱藏)"
      ],
      "metadata": {
        "id": "tVPQybpA3pFz"
      }
    },
    {
      "cell_type": "markdown",
      "source": [
        "## 匯入模組"
      ],
      "metadata": {
        "id": "bShejljytQp8"
      }
    },
    {
      "cell_type": "code",
      "source": [
        "!pip3 install pygsheets"
      ],
      "metadata": {
        "colab": {
          "base_uri": "https://localhost:8080/"
        },
        "id": "YEjdNLB6gaU6",
        "outputId": "c56b765a-6680-4453-e83c-ce8696352814"
      },
      "execution_count": null,
      "outputs": [
        {
          "output_type": "stream",
          "name": "stdout",
          "text": [
            "Requirement already satisfied: pygsheets in /usr/local/lib/python3.10/dist-packages (2.0.6)\n",
            "Requirement already satisfied: google-api-python-client>=2.50.0 in /usr/local/lib/python3.10/dist-packages (from pygsheets) (2.84.0)\n",
            "Requirement already satisfied: google-auth-oauthlib>=0.7.1 in /usr/local/lib/python3.10/dist-packages (from pygsheets) (1.0.0)\n",
            "Requirement already satisfied: httplib2<1dev,>=0.15.0 in /usr/local/lib/python3.10/dist-packages (from google-api-python-client>=2.50.0->pygsheets) (0.22.0)\n",
            "Requirement already satisfied: google-auth<3.0.0dev,>=1.19.0 in /usr/local/lib/python3.10/dist-packages (from google-api-python-client>=2.50.0->pygsheets) (2.17.3)\n",
            "Requirement already satisfied: google-auth-httplib2>=0.1.0 in /usr/local/lib/python3.10/dist-packages (from google-api-python-client>=2.50.0->pygsheets) (0.1.0)\n",
            "Requirement already satisfied: google-api-core!=2.0.*,!=2.1.*,!=2.2.*,!=2.3.0,<3.0.0dev,>=1.31.5 in /usr/local/lib/python3.10/dist-packages (from google-api-python-client>=2.50.0->pygsheets) (2.11.1)\n",
            "Requirement already satisfied: uritemplate<5,>=3.0.1 in /usr/local/lib/python3.10/dist-packages (from google-api-python-client>=2.50.0->pygsheets) (4.1.1)\n",
            "Requirement already satisfied: requests-oauthlib>=0.7.0 in /usr/local/lib/python3.10/dist-packages (from google-auth-oauthlib>=0.7.1->pygsheets) (1.3.1)\n",
            "Requirement already satisfied: googleapis-common-protos<2.0.dev0,>=1.56.2 in /usr/local/lib/python3.10/dist-packages (from google-api-core!=2.0.*,!=2.1.*,!=2.2.*,!=2.3.0,<3.0.0dev,>=1.31.5->google-api-python-client>=2.50.0->pygsheets) (1.60.0)\n",
            "Requirement already satisfied: protobuf!=3.20.0,!=3.20.1,!=4.21.0,!=4.21.1,!=4.21.2,!=4.21.3,!=4.21.4,!=4.21.5,<5.0.0.dev0,>=3.19.5 in /usr/local/lib/python3.10/dist-packages (from google-api-core!=2.0.*,!=2.1.*,!=2.2.*,!=2.3.0,<3.0.0dev,>=1.31.5->google-api-python-client>=2.50.0->pygsheets) (3.20.3)\n",
            "Requirement already satisfied: requests<3.0.0.dev0,>=2.18.0 in /usr/local/lib/python3.10/dist-packages (from google-api-core!=2.0.*,!=2.1.*,!=2.2.*,!=2.3.0,<3.0.0dev,>=1.31.5->google-api-python-client>=2.50.0->pygsheets) (2.31.0)\n",
            "Requirement already satisfied: cachetools<6.0,>=2.0.0 in /usr/local/lib/python3.10/dist-packages (from google-auth<3.0.0dev,>=1.19.0->google-api-python-client>=2.50.0->pygsheets) (5.3.1)\n",
            "Requirement already satisfied: pyasn1-modules>=0.2.1 in /usr/local/lib/python3.10/dist-packages (from google-auth<3.0.0dev,>=1.19.0->google-api-python-client>=2.50.0->pygsheets) (0.3.0)\n",
            "Requirement already satisfied: six>=1.9.0 in /usr/local/lib/python3.10/dist-packages (from google-auth<3.0.0dev,>=1.19.0->google-api-python-client>=2.50.0->pygsheets) (1.16.0)\n",
            "Requirement already satisfied: rsa<5,>=3.1.4 in /usr/local/lib/python3.10/dist-packages (from google-auth<3.0.0dev,>=1.19.0->google-api-python-client>=2.50.0->pygsheets) (4.9)\n",
            "Requirement already satisfied: pyparsing!=3.0.0,!=3.0.1,!=3.0.2,!=3.0.3,<4,>=2.4.2 in /usr/local/lib/python3.10/dist-packages (from httplib2<1dev,>=0.15.0->google-api-python-client>=2.50.0->pygsheets) (3.1.1)\n",
            "Requirement already satisfied: oauthlib>=3.0.0 in /usr/local/lib/python3.10/dist-packages (from requests-oauthlib>=0.7.0->google-auth-oauthlib>=0.7.1->pygsheets) (3.2.2)\n",
            "Requirement already satisfied: pyasn1<0.6.0,>=0.4.6 in /usr/local/lib/python3.10/dist-packages (from pyasn1-modules>=0.2.1->google-auth<3.0.0dev,>=1.19.0->google-api-python-client>=2.50.0->pygsheets) (0.5.0)\n",
            "Requirement already satisfied: charset-normalizer<4,>=2 in /usr/local/lib/python3.10/dist-packages (from requests<3.0.0.dev0,>=2.18.0->google-api-core!=2.0.*,!=2.1.*,!=2.2.*,!=2.3.0,<3.0.0dev,>=1.31.5->google-api-python-client>=2.50.0->pygsheets) (3.2.0)\n",
            "Requirement already satisfied: idna<4,>=2.5 in /usr/local/lib/python3.10/dist-packages (from requests<3.0.0.dev0,>=2.18.0->google-api-core!=2.0.*,!=2.1.*,!=2.2.*,!=2.3.0,<3.0.0dev,>=1.31.5->google-api-python-client>=2.50.0->pygsheets) (3.4)\n",
            "Requirement already satisfied: urllib3<3,>=1.21.1 in /usr/local/lib/python3.10/dist-packages (from requests<3.0.0.dev0,>=2.18.0->google-api-core!=2.0.*,!=2.1.*,!=2.2.*,!=2.3.0,<3.0.0dev,>=1.31.5->google-api-python-client>=2.50.0->pygsheets) (2.0.4)\n",
            "Requirement already satisfied: certifi>=2017.4.17 in /usr/local/lib/python3.10/dist-packages (from requests<3.0.0.dev0,>=2.18.0->google-api-core!=2.0.*,!=2.1.*,!=2.2.*,!=2.3.0,<3.0.0dev,>=1.31.5->google-api-python-client>=2.50.0->pygsheets) (2023.7.22)\n"
          ]
        }
      ]
    },
    {
      "cell_type": "code",
      "source": [
        "!pip install gspread-dataframe==3.2.1"
      ],
      "metadata": {
        "id": "OuPVlwfnKuGg",
        "outputId": "691caa83-751e-49e9-d4d7-db3ad97fd27f",
        "colab": {
          "base_uri": "https://localhost:8080/"
        }
      },
      "execution_count": null,
      "outputs": [
        {
          "output_type": "stream",
          "name": "stdout",
          "text": [
            "Requirement already satisfied: gspread-dataframe==3.2.1 in /usr/local/lib/python3.10/dist-packages (3.2.1)\n",
            "Requirement already satisfied: gspread>=3.0.0 in /usr/local/lib/python3.10/dist-packages (from gspread-dataframe==3.2.1) (3.4.2)\n",
            "Requirement already satisfied: pandas>=0.24.0 in /usr/local/lib/python3.10/dist-packages (from gspread-dataframe==3.2.1) (1.5.3)\n",
            "Requirement already satisfied: six>=1.12.0 in /usr/local/lib/python3.10/dist-packages (from gspread-dataframe==3.2.1) (1.16.0)\n",
            "Requirement already satisfied: requests>=2.2.1 in /usr/local/lib/python3.10/dist-packages (from gspread>=3.0.0->gspread-dataframe==3.2.1) (2.31.0)\n",
            "Requirement already satisfied: google-auth in /usr/local/lib/python3.10/dist-packages (from gspread>=3.0.0->gspread-dataframe==3.2.1) (2.17.3)\n",
            "Requirement already satisfied: python-dateutil>=2.8.1 in /usr/local/lib/python3.10/dist-packages (from pandas>=0.24.0->gspread-dataframe==3.2.1) (2.8.2)\n",
            "Requirement already satisfied: pytz>=2020.1 in /usr/local/lib/python3.10/dist-packages (from pandas>=0.24.0->gspread-dataframe==3.2.1) (2023.3.post1)\n",
            "Requirement already satisfied: numpy>=1.21.0 in /usr/local/lib/python3.10/dist-packages (from pandas>=0.24.0->gspread-dataframe==3.2.1) (1.23.5)\n",
            "Requirement already satisfied: charset-normalizer<4,>=2 in /usr/local/lib/python3.10/dist-packages (from requests>=2.2.1->gspread>=3.0.0->gspread-dataframe==3.2.1) (3.2.0)\n",
            "Requirement already satisfied: idna<4,>=2.5 in /usr/local/lib/python3.10/dist-packages (from requests>=2.2.1->gspread>=3.0.0->gspread-dataframe==3.2.1) (3.4)\n",
            "Requirement already satisfied: urllib3<3,>=1.21.1 in /usr/local/lib/python3.10/dist-packages (from requests>=2.2.1->gspread>=3.0.0->gspread-dataframe==3.2.1) (2.0.4)\n",
            "Requirement already satisfied: certifi>=2017.4.17 in /usr/local/lib/python3.10/dist-packages (from requests>=2.2.1->gspread>=3.0.0->gspread-dataframe==3.2.1) (2023.7.22)\n",
            "Requirement already satisfied: cachetools<6.0,>=2.0.0 in /usr/local/lib/python3.10/dist-packages (from google-auth->gspread>=3.0.0->gspread-dataframe==3.2.1) (5.3.1)\n",
            "Requirement already satisfied: pyasn1-modules>=0.2.1 in /usr/local/lib/python3.10/dist-packages (from google-auth->gspread>=3.0.0->gspread-dataframe==3.2.1) (0.3.0)\n",
            "Requirement already satisfied: rsa<5,>=3.1.4 in /usr/local/lib/python3.10/dist-packages (from google-auth->gspread>=3.0.0->gspread-dataframe==3.2.1) (4.9)\n",
            "Requirement already satisfied: pyasn1<0.6.0,>=0.4.6 in /usr/local/lib/python3.10/dist-packages (from pyasn1-modules>=0.2.1->google-auth->gspread>=3.0.0->gspread-dataframe==3.2.1) (0.5.0)\n"
          ]
        }
      ]
    },
    {
      "cell_type": "code",
      "source": [
        "import pygsheets\n",
        "gc = pygsheets.authorize(service_file='/content/orderdata-copyto-parttime-5c19ba8fcba4.json') # Gild學長後續請將.json金鑰設定在local路徑\n",
        "import gspread\n",
        "from gspread_dataframe import get_as_dataframe, set_with_dataframe\n",
        "import pandas as pd"
      ],
      "metadata": {
        "id": "65jeCORkK08f"
      },
      "execution_count": null,
      "outputs": []
    },
    {
      "cell_type": "markdown",
      "source": [
        "## 讀取資料"
      ],
      "metadata": {
        "id": "1a0BWy5qtE0n"
      }
    },
    {
      "cell_type": "markdown",
      "source": [
        "### 讀取來自消費者的訂購紀錄"
      ],
      "metadata": {
        "id": "0nUGXjVUjlg1"
      }
    },
    {
      "cell_type": "code",
      "source": [
        "# google sheet 網址與認證\n",
        "SPREADSHEET = 'https://docs.google.com/spreadsheets/d/1EDtLvs_Rz_bwsew0BfZSKHBZpp5ZNDSKg3gLv_XZCbU/edit?usp=sharing'\n",
        "sht = gc.open_by_url(SPREADSHEET)\n",
        "wks = sht.worksheet_by_title(\"可寄發取貨通知\")\n",
        "#讀取成 df\n",
        "Order_data = pd.DataFrame(wks.get_all_records())"
      ],
      "metadata": {
        "id": "OFWCDEPMLKLx"
      },
      "execution_count": null,
      "outputs": []
    },
    {
      "cell_type": "markdown",
      "source": [
        "### 「商品」對應到「供應商」"
      ],
      "metadata": {
        "id": "v5R8Us96junb"
      }
    },
    {
      "cell_type": "code",
      "source": [
        "# google sheet 網址與認證\n",
        "SPREADSHEET = 'https://docs.google.com/spreadsheets/d/1pSHCFR-pHePTHDCMlnkS5vPS6imU_fLBk_r9eYmBuV0/edit?usp=sharing'\n",
        "sht = gc.open_by_url(SPREADSHEET)\n",
        "wks = sht.worksheet_by_title(\"工作表1\")\n",
        "#讀取成 df\n",
        "Price_data = pd.DataFrame(wks.get_all_records())\n",
        "\n"
      ],
      "metadata": {
        "id": "kVoUCta4spig"
      },
      "execution_count": null,
      "outputs": []
    },
    {
      "cell_type": "code",
      "source": [
        "import re\n",
        "# Assuming pricedata is a DataFrame with your data\n",
        "prices = Price_data[\"銷售價格\"].apply(lambda x: re.sub(r'\\D', '', x)).astype(int)\n",
        "Price_data[\"銷售價格\"] = prices\n",
        "Price_data"
      ],
      "metadata": {
        "colab": {
          "base_uri": "https://localhost:8080/",
          "height": 394
        },
        "id": "5c17_Tz52a5A",
        "outputId": "9d947e31-5995-4c9f-b383-bbdd87a4cd44"
      },
      "execution_count": null,
      "outputs": [
        {
          "output_type": "error",
          "ename": "TypeError",
          "evalue": "ignored",
          "traceback": [
            "\u001b[0;31m---------------------------------------------------------------------------\u001b[0m",
            "\u001b[0;31mTypeError\u001b[0m                                 Traceback (most recent call last)",
            "\u001b[0;32m<ipython-input-11-375525a378c1>\u001b[0m in \u001b[0;36m<cell line: 3>\u001b[0;34m()\u001b[0m\n\u001b[1;32m      1\u001b[0m \u001b[0;32mimport\u001b[0m \u001b[0mre\u001b[0m\u001b[0;34m\u001b[0m\u001b[0;34m\u001b[0m\u001b[0m\n\u001b[1;32m      2\u001b[0m \u001b[0;31m# Assuming pricedata is a DataFrame with your data\u001b[0m\u001b[0;34m\u001b[0m\u001b[0;34m\u001b[0m\u001b[0m\n\u001b[0;32m----> 3\u001b[0;31m \u001b[0mprices\u001b[0m \u001b[0;34m=\u001b[0m \u001b[0mPrice_data\u001b[0m\u001b[0;34m[\u001b[0m\u001b[0;34m\"銷售價格\"\u001b[0m\u001b[0;34m]\u001b[0m\u001b[0;34m.\u001b[0m\u001b[0mapply\u001b[0m\u001b[0;34m(\u001b[0m\u001b[0;32mlambda\u001b[0m \u001b[0mx\u001b[0m\u001b[0;34m:\u001b[0m \u001b[0mre\u001b[0m\u001b[0;34m.\u001b[0m\u001b[0msub\u001b[0m\u001b[0;34m(\u001b[0m\u001b[0;34mr'\\D'\u001b[0m\u001b[0;34m,\u001b[0m \u001b[0;34m''\u001b[0m\u001b[0;34m,\u001b[0m \u001b[0mx\u001b[0m\u001b[0;34m)\u001b[0m\u001b[0;34m)\u001b[0m\u001b[0;34m.\u001b[0m\u001b[0mastype\u001b[0m\u001b[0;34m(\u001b[0m\u001b[0mint\u001b[0m\u001b[0;34m)\u001b[0m\u001b[0;34m\u001b[0m\u001b[0;34m\u001b[0m\u001b[0m\n\u001b[0m\u001b[1;32m      4\u001b[0m \u001b[0mPrice_data\u001b[0m\u001b[0;34m[\u001b[0m\u001b[0;34m\"銷售價格\"\u001b[0m\u001b[0;34m]\u001b[0m \u001b[0;34m=\u001b[0m \u001b[0mprices\u001b[0m\u001b[0;34m\u001b[0m\u001b[0;34m\u001b[0m\u001b[0m\n\u001b[1;32m      5\u001b[0m \u001b[0mPrice_data\u001b[0m\u001b[0;34m\u001b[0m\u001b[0;34m\u001b[0m\u001b[0m\n",
            "\u001b[0;32m/usr/local/lib/python3.10/dist-packages/pandas/core/series.py\u001b[0m in \u001b[0;36mapply\u001b[0;34m(self, func, convert_dtype, args, **kwargs)\u001b[0m\n\u001b[1;32m   4769\u001b[0m         \u001b[0mdtype\u001b[0m\u001b[0;34m:\u001b[0m \u001b[0mfloat64\u001b[0m\u001b[0;34m\u001b[0m\u001b[0;34m\u001b[0m\u001b[0m\n\u001b[1;32m   4770\u001b[0m         \"\"\"\n\u001b[0;32m-> 4771\u001b[0;31m         \u001b[0;32mreturn\u001b[0m \u001b[0mSeriesApply\u001b[0m\u001b[0;34m(\u001b[0m\u001b[0mself\u001b[0m\u001b[0;34m,\u001b[0m \u001b[0mfunc\u001b[0m\u001b[0;34m,\u001b[0m \u001b[0mconvert_dtype\u001b[0m\u001b[0;34m,\u001b[0m \u001b[0margs\u001b[0m\u001b[0;34m,\u001b[0m \u001b[0mkwargs\u001b[0m\u001b[0;34m)\u001b[0m\u001b[0;34m.\u001b[0m\u001b[0mapply\u001b[0m\u001b[0;34m(\u001b[0m\u001b[0;34m)\u001b[0m\u001b[0;34m\u001b[0m\u001b[0;34m\u001b[0m\u001b[0m\n\u001b[0m\u001b[1;32m   4772\u001b[0m \u001b[0;34m\u001b[0m\u001b[0m\n\u001b[1;32m   4773\u001b[0m     def _reduce(\n",
            "\u001b[0;32m/usr/local/lib/python3.10/dist-packages/pandas/core/apply.py\u001b[0m in \u001b[0;36mapply\u001b[0;34m(self)\u001b[0m\n\u001b[1;32m   1121\u001b[0m \u001b[0;34m\u001b[0m\u001b[0m\n\u001b[1;32m   1122\u001b[0m         \u001b[0;31m# self.f is Callable\u001b[0m\u001b[0;34m\u001b[0m\u001b[0;34m\u001b[0m\u001b[0m\n\u001b[0;32m-> 1123\u001b[0;31m         \u001b[0;32mreturn\u001b[0m \u001b[0mself\u001b[0m\u001b[0;34m.\u001b[0m\u001b[0mapply_standard\u001b[0m\u001b[0;34m(\u001b[0m\u001b[0;34m)\u001b[0m\u001b[0;34m\u001b[0m\u001b[0;34m\u001b[0m\u001b[0m\n\u001b[0m\u001b[1;32m   1124\u001b[0m \u001b[0;34m\u001b[0m\u001b[0m\n\u001b[1;32m   1125\u001b[0m     \u001b[0;32mdef\u001b[0m \u001b[0magg\u001b[0m\u001b[0;34m(\u001b[0m\u001b[0mself\u001b[0m\u001b[0;34m)\u001b[0m\u001b[0;34m:\u001b[0m\u001b[0;34m\u001b[0m\u001b[0;34m\u001b[0m\u001b[0m\n",
            "\u001b[0;32m/usr/local/lib/python3.10/dist-packages/pandas/core/apply.py\u001b[0m in \u001b[0;36mapply_standard\u001b[0;34m(self)\u001b[0m\n\u001b[1;32m   1172\u001b[0m             \u001b[0;32melse\u001b[0m\u001b[0;34m:\u001b[0m\u001b[0;34m\u001b[0m\u001b[0;34m\u001b[0m\u001b[0m\n\u001b[1;32m   1173\u001b[0m                 \u001b[0mvalues\u001b[0m \u001b[0;34m=\u001b[0m \u001b[0mobj\u001b[0m\u001b[0;34m.\u001b[0m\u001b[0mastype\u001b[0m\u001b[0;34m(\u001b[0m\u001b[0mobject\u001b[0m\u001b[0;34m)\u001b[0m\u001b[0;34m.\u001b[0m\u001b[0m_values\u001b[0m\u001b[0;34m\u001b[0m\u001b[0;34m\u001b[0m\u001b[0m\n\u001b[0;32m-> 1174\u001b[0;31m                 mapped = lib.map_infer(\n\u001b[0m\u001b[1;32m   1175\u001b[0m                     \u001b[0mvalues\u001b[0m\u001b[0;34m,\u001b[0m\u001b[0;34m\u001b[0m\u001b[0;34m\u001b[0m\u001b[0m\n\u001b[1;32m   1176\u001b[0m                     \u001b[0mf\u001b[0m\u001b[0;34m,\u001b[0m\u001b[0;34m\u001b[0m\u001b[0;34m\u001b[0m\u001b[0m\n",
            "\u001b[0;32m/usr/local/lib/python3.10/dist-packages/pandas/_libs/lib.pyx\u001b[0m in \u001b[0;36mpandas._libs.lib.map_infer\u001b[0;34m()\u001b[0m\n",
            "\u001b[0;32m<ipython-input-11-375525a378c1>\u001b[0m in \u001b[0;36m<lambda>\u001b[0;34m(x)\u001b[0m\n\u001b[1;32m      1\u001b[0m \u001b[0;32mimport\u001b[0m \u001b[0mre\u001b[0m\u001b[0;34m\u001b[0m\u001b[0;34m\u001b[0m\u001b[0m\n\u001b[1;32m      2\u001b[0m \u001b[0;31m# Assuming pricedata is a DataFrame with your data\u001b[0m\u001b[0;34m\u001b[0m\u001b[0;34m\u001b[0m\u001b[0m\n\u001b[0;32m----> 3\u001b[0;31m \u001b[0mprices\u001b[0m \u001b[0;34m=\u001b[0m \u001b[0mPrice_data\u001b[0m\u001b[0;34m[\u001b[0m\u001b[0;34m\"銷售價格\"\u001b[0m\u001b[0;34m]\u001b[0m\u001b[0;34m.\u001b[0m\u001b[0mapply\u001b[0m\u001b[0;34m(\u001b[0m\u001b[0;32mlambda\u001b[0m \u001b[0mx\u001b[0m\u001b[0;34m:\u001b[0m \u001b[0mre\u001b[0m\u001b[0;34m.\u001b[0m\u001b[0msub\u001b[0m\u001b[0;34m(\u001b[0m\u001b[0;34mr'\\D'\u001b[0m\u001b[0;34m,\u001b[0m \u001b[0;34m''\u001b[0m\u001b[0;34m,\u001b[0m \u001b[0mx\u001b[0m\u001b[0;34m)\u001b[0m\u001b[0;34m)\u001b[0m\u001b[0;34m.\u001b[0m\u001b[0mastype\u001b[0m\u001b[0;34m(\u001b[0m\u001b[0mint\u001b[0m\u001b[0;34m)\u001b[0m\u001b[0;34m\u001b[0m\u001b[0;34m\u001b[0m\u001b[0m\n\u001b[0m\u001b[1;32m      4\u001b[0m \u001b[0mPrice_data\u001b[0m\u001b[0;34m[\u001b[0m\u001b[0;34m\"銷售價格\"\u001b[0m\u001b[0;34m]\u001b[0m \u001b[0;34m=\u001b[0m \u001b[0mprices\u001b[0m\u001b[0;34m\u001b[0m\u001b[0;34m\u001b[0m\u001b[0m\n\u001b[1;32m      5\u001b[0m \u001b[0mPrice_data\u001b[0m\u001b[0;34m\u001b[0m\u001b[0;34m\u001b[0m\u001b[0m\n",
            "\u001b[0;32m/usr/lib/python3.10/re.py\u001b[0m in \u001b[0;36msub\u001b[0;34m(pattern, repl, string, count, flags)\u001b[0m\n\u001b[1;32m    207\u001b[0m     \u001b[0ma\u001b[0m \u001b[0mcallable\u001b[0m\u001b[0;34m,\u001b[0m \u001b[0mit\u001b[0m\u001b[0;31m'\u001b[0m\u001b[0ms\u001b[0m \u001b[0mpassed\u001b[0m \u001b[0mthe\u001b[0m \u001b[0mMatch\u001b[0m \u001b[0mobject\u001b[0m \u001b[0;32mand\u001b[0m \u001b[0mmust\u001b[0m \u001b[0;32mreturn\u001b[0m\u001b[0;34m\u001b[0m\u001b[0;34m\u001b[0m\u001b[0m\n\u001b[1;32m    208\u001b[0m     a replacement string to be used.\"\"\"\n\u001b[0;32m--> 209\u001b[0;31m     \u001b[0;32mreturn\u001b[0m \u001b[0m_compile\u001b[0m\u001b[0;34m(\u001b[0m\u001b[0mpattern\u001b[0m\u001b[0;34m,\u001b[0m \u001b[0mflags\u001b[0m\u001b[0;34m)\u001b[0m\u001b[0;34m.\u001b[0m\u001b[0msub\u001b[0m\u001b[0;34m(\u001b[0m\u001b[0mrepl\u001b[0m\u001b[0;34m,\u001b[0m \u001b[0mstring\u001b[0m\u001b[0;34m,\u001b[0m \u001b[0mcount\u001b[0m\u001b[0;34m)\u001b[0m\u001b[0;34m\u001b[0m\u001b[0;34m\u001b[0m\u001b[0m\n\u001b[0m\u001b[1;32m    210\u001b[0m \u001b[0;34m\u001b[0m\u001b[0m\n\u001b[1;32m    211\u001b[0m \u001b[0;32mdef\u001b[0m \u001b[0msubn\u001b[0m\u001b[0;34m(\u001b[0m\u001b[0mpattern\u001b[0m\u001b[0;34m,\u001b[0m \u001b[0mrepl\u001b[0m\u001b[0;34m,\u001b[0m \u001b[0mstring\u001b[0m\u001b[0;34m,\u001b[0m \u001b[0mcount\u001b[0m\u001b[0;34m=\u001b[0m\u001b[0;36m0\u001b[0m\u001b[0;34m,\u001b[0m \u001b[0mflags\u001b[0m\u001b[0;34m=\u001b[0m\u001b[0;36m0\u001b[0m\u001b[0;34m)\u001b[0m\u001b[0;34m:\u001b[0m\u001b[0;34m\u001b[0m\u001b[0;34m\u001b[0m\u001b[0m\n",
            "\u001b[0;31mTypeError\u001b[0m: expected string or bytes-like object"
          ]
        }
      ]
    },
    {
      "cell_type": "code",
      "source": [
        "Price_data[\"商品全稱\"] = Price_data[\"供應商\"] + Price_data[\"商品名稱\"]\n",
        "Price_data"
      ],
      "metadata": {
        "id": "JraVIIN973K_"
      },
      "execution_count": null,
      "outputs": []
    },
    {
      "cell_type": "markdown",
      "source": [
        "## 數據處理"
      ],
      "metadata": {
        "id": "KijuDzqntfJQ"
      }
    },
    {
      "cell_type": "markdown",
      "source": [
        "### 加總：各品項當日訂購數量"
      ],
      "metadata": {
        "id": "_KE1HiSrthlY"
      }
    },
    {
      "cell_type": "code",
      "source": [
        "# 获取 Price_data 中的商品全称列\n",
        "product_names = Price_data['商品全稱']\n",
        "\n",
        "# 遍历 Order_data 中的每一行\n",
        "for index, row in Order_data.iterrows():\n",
        "    subtotal = 0  # 初始化小计为0\n",
        "    for product in product_names:\n",
        "        quantity = row.get(product, 0)  # 获取数量，如果没有则默认为0\n",
        "        if quantity == '':\n",
        "            quantity = 0\n",
        "        else:\n",
        "            quantity = float(quantity)  # 强制转换为浮点数\n",
        "        price = float(Price_data.loc[Price_data['商品全稱'] == product, '銷售價格'].values[0])  # 强制转换为浮点数\n",
        "        subtotal += quantity * price\n",
        "    Order_data.at[index, '小計'] = subtotal\n",
        "\n",
        "# 根据电子邮件地址向每个订购者发送帐单\n",
        "for index, row in Order_data.iterrows():\n",
        "    email = row['電子郵件地址']\n",
        "    name = row['訂購者姓名']\n",
        "    subtotal = row['小計']\n",
        "    # 此处添加发送帐单的代码，可以将帐单信息发送到对应的电子邮件地址\n",
        "\n",
        "# 打印 Order_data，包括小计\n",
        "Order_data"
      ],
      "metadata": {
        "id": "Rqzyjq9BEtYL"
      },
      "execution_count": null,
      "outputs": []
    },
    {
      "cell_type": "markdown",
      "source": [
        "### 寄出T-point信件"
      ],
      "metadata": {
        "id": "rc8yimie7zsd"
      }
    },
    {
      "cell_type": "code",
      "source": [
        "import pandas as pd\n",
        "import smtplib\n",
        "from email.mime.text import MIMEText\n",
        "from email.mime.multipart import MIMEMultipart\n",
        "import os\n",
        "\n",
        "\n",
        "def email_sent(Tosearch):\n",
        "  # 設定寄件者的電子郵件地址和密碼作為環境變數\n",
        "  os.environ[\"COOP_EMAIL\"] = \"coop4s.hsinchu@gmail.com\"\n",
        "  os.environ[\"COOP_PASSWORD\"] = \"coop4s@nthu\"\n",
        "  filtered_data = Order_data[Order_data['訂單編號'] == Tosearch]\n",
        "  Selected_filtered_data = filtered_data.iloc[:, [2, 3, 5, -2, -1]]\n",
        "  print(\"===================================\")\n",
        "  print(Selected_filtered_data)\n",
        "  print(\"===================================\\n\")\n",
        "  try:\n",
        "    AreYouSure = int(input(\"請確定，上述關於該訂單資訊是否正確，如正確請按1 \\n\"))\n",
        "    print(\"===================================\\n\")\n",
        "    if AreYouSure == 1 :\n",
        "        # Your loop for sending emails\n",
        "        for index, row in filtered_data.iterrows():\n",
        "            recipient_name = row[\"訂購者姓名\"]\n",
        "            order_num = row[\"訂單編號\"]\n",
        "            product_quantities = row[6:-2]\n",
        "            total_amount = row[\"小計\"]\n",
        "\n",
        "            # Create email content\n",
        "            email_content = f\"Dear {recipient_name},\\n十里方圓合作社提醒您，您已付款購買的產品詳情如下，請確認:\\n\\n\"\n",
        "            email_content += f\"===================================\\n\"\n",
        "            email_content += f\"系統自動生成的訂單編號: {order_num} \\n\"\n",
        "            email_content += f\"===================================\"\n",
        "            for product, quantity in product_quantities.items():\n",
        "                if quantity != \"\" :\n",
        "                  # Check if the product is in the \"商品名稱\" column\n",
        "                  if product in Price_data[\"商品全稱\"].values:\n",
        "                      # If the product is found, you can retrieve its \"銷售價格\"\n",
        "                      sale_price = Price_data.loc[Price_data[\"商品全稱\"] == product, \"銷售價格\"].values[0]\n",
        "                  email_content += f\"{product}: {quantity} 件，該商品單價是{sale_price}元\\n\"\n",
        "            email_content += f\"===================================\\n\"\n",
        "            email_content += f\"付款金額小計: {total_amount} 新台幣\\n\"\n",
        "            email_content += f\"獲得T-point: {total_amount} 點數\\n\"\n",
        "\n",
        "\n",
        "            # Email settings\n",
        "            sender_email = os.getenv(\"COOP_EMAIL\")  # 使用正確的環境變數名稱\n",
        "            sender_password = \"jwsscmoiffdyukmm\"\n",
        "            recipient_email = str(row[\"電子郵件地址\"])  # 確保將電子郵件地址轉換為字符串\n",
        "\n",
        "            subject = \"【十里方圓合作社】完成結帳通知\"\n",
        "            message = MIMEMultipart()\n",
        "            message[\"From\"] = sender_email\n",
        "            message[\"To\"] = recipient_email\n",
        "            message[\"Subject\"] = subject\n",
        "            message.attach(MIMEText(email_content, \"plain\"))\n",
        "\n",
        "            try:\n",
        "                # Connect to SMTP server\n",
        "                server = smtplib.SMTP(\"smtp.gmail.com\", 587)\n",
        "                server.starttls()\n",
        "                server.login(sender_email, sender_password)\n",
        "\n",
        "                # Send the email\n",
        "                server.sendmail(sender_email, recipient_email, message.as_string())\n",
        "\n",
        "                # Close the SMTP server\n",
        "                server.quit()\n",
        "\n",
        "                print(f\"Email sent to {recipient_name}, recipient's email address: {recipient_email}\")\n",
        "            except Exception as e:\n",
        "                print(f\"Failed to send email to {recipient_name}. Error: {str(e)}\")\n",
        "    else:\n",
        "        print(\"停止輸入\")\n",
        "  except ValueError:\n",
        "    print(\"停止輸入\")"
      ],
      "metadata": {
        "id": "OH8ix4k7Irei"
      },
      "execution_count": null,
      "outputs": []
    },
    {
      "cell_type": "markdown",
      "source": [
        "# 工讀生輸入"
      ],
      "metadata": {
        "id": "xKNyr-Pb3vkh"
      }
    },
    {
      "cell_type": "code",
      "source": [
        "# 使用者輸入\n",
        "Tosearch = int(input(\"請輸入結帳完成的「訂單編號」：\"))\n",
        "email_sent(Tosearch)\n"
      ],
      "metadata": {
        "id": "htbpheVljxUh"
      },
      "execution_count": null,
      "outputs": []
    }
  ]
}